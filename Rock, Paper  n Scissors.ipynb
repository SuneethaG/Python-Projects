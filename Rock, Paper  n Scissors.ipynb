{
 "cells": [
  {
   "cell_type": "markdown",
   "id": "b1e126aa",
   "metadata": {},
   "source": [
    "## Project 5 :Essentials of Python Programming\n",
    "### Developing ‘Rock, Paper and Scissors’ game using Python programming"
   ]
  },
  {
   "cell_type": "markdown",
   "id": "148e02d6",
   "metadata": {},
   "source": [
    "### user input"
   ]
  },
  {
   "cell_type": "code",
   "execution_count": 14,
   "id": "ade78520",
   "metadata": {},
   "outputs": [
    {
     "name": "stdout",
     "output_type": "stream",
     "text": [
      "Lets play Rock, Paper and Scissor\n",
      "Choose between r/p/s [Rock, Paper or scissors]\n",
      "p\n",
      "Choose between r/p/s [Rock, Paper or scissors]\n",
      "s\n"
     ]
    }
   ],
   "source": [
    "print(\"Lets play Rock, Paper and Scissor\")\n",
    "player1 = str(input(\"Choose between r/p/s [Rock, Paper or scissors]\\n\"))\n",
    "player2 = str(input(\"Choose between r/p/s [Rock, Paper or scissors]\\n\"))"
   ]
  },
  {
   "cell_type": "markdown",
   "id": "9082b33d",
   "metadata": {},
   "source": [
    "### logic using conditional checks"
   ]
  },
  {
   "cell_type": "code",
   "execution_count": 15,
   "id": "ffdbdd80",
   "metadata": {},
   "outputs": [
    {
     "name": "stdout",
     "output_type": "stream",
     "text": [
      "Player1 choose p and Player2 choose s\n",
      "Player 2 won the game\n"
     ]
    }
   ],
   "source": [
    "if (player1=='r') and (player2=='r'):\n",
    "    print(\"Player1 choose {option} and Player2 choose {option2}\".format(option=player1,option2=player2))\n",
    "    print(\"That's a tie\")\n",
    "elif (player1=='r') and (player2=='p'):\n",
    "    print(\"Player1 choose {option} and Player2 choose {option2}\".format(option=player1,option2=player2))\n",
    "    print(\"Player2 has won the game\")\n",
    "elif (player1=='r') and (player2=='s'):\n",
    "    print(\"Player1 choose {option} and Player2 choose {option2}\".format(option=player1,option2=player2))\n",
    "    print(\"Player1 won the game\")\n",
    "### logic for paper\n",
    "elif (player1=='p') and (player2=='r'):\n",
    "    print(\"Player1 choose {option} and Player2 choose {option2}\".format(option=player1,option2=player2))\n",
    "    print(\"Player1 won the game\")\n",
    "elif (player1=='p') and (player2=='p'):\n",
    "    print(\"Player1 choose {option} and Player2 choose {option2}\".format(option=player1,option2=player2))\n",
    "    print(\"That's a tie\")\n",
    "elif (player1=='p') and (player2=='s'):\n",
    "    print(\"Player1 choose {option} and Player2 choose {option2}\".format(option=player1,option2=player2))\n",
    "    print(\"Player 2 won the game\")\n",
    "### logic for scissor    \n",
    "elif (player1=='s') and (player2=='r'):\n",
    "    print(\"Player1 choose {option} and Player2 choose {option2}\".format(option=player1,option2=player2))\n",
    "    print(\"Player1 won the game\")\n",
    "elif (player1=='s') and (player2=='p'):\n",
    "    print(\"Player1 choose {option} and Player2 choose {option2}\".format(option=player1,option2=player2))\n",
    "    print(\"Player1 won the game\")\n",
    "elif (player1=='s') and (player2=='s'):\n",
    "    print(\"Player1 choose {option} and Player2 choose {option2}\".format(option=player1,option2=player2))\n",
    "    print(\"That's a tie\")\n",
    "\n",
    "## logic for error\n",
    "else:\n",
    "    print(\"Error choose correct option\")    \n",
    "    "
   ]
  },
  {
   "cell_type": "markdown",
   "id": "65929645",
   "metadata": {},
   "source": []
  }
 ],
 "metadata": {
  "kernelspec": {
   "display_name": "Python 3",
   "language": "python",
   "name": "python3"
  },
  "language_info": {
   "codemirror_mode": {
    "name": "ipython",
    "version": 3
   },
   "file_extension": ".py",
   "mimetype": "text/x-python",
   "name": "python",
   "nbconvert_exporter": "python",
   "pygments_lexer": "ipython3",
   "version": "3.8.8"
  }
 },
 "nbformat": 4,
 "nbformat_minor": 5
}
